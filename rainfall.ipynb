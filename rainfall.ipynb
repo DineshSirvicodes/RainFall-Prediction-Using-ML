{
 "cells": [
  {
   "cell_type": "code",
   "execution_count": 1,
   "metadata": {},
   "outputs": [],
   "source": [
    "import pandas as pd"
   ]
  },
  {
   "cell_type": "code",
   "execution_count": 2,
   "metadata": {},
   "outputs": [],
   "source": [
    "import numpy as np"
   ]
  },
  {
   "cell_type": "code",
   "execution_count": 3,
   "metadata": {},
   "outputs": [],
   "source": [
    "import math"
   ]
  },
  {
   "cell_type": "code",
   "execution_count": 4,
   "metadata": {},
   "outputs": [],
   "source": [
    "import sklearn"
   ]
  },
  {
   "cell_type": "code",
   "execution_count": 5,
   "metadata": {},
   "outputs": [],
   "source": [
    "from sklearn.model_selection import train_test_split"
   ]
  },
  {
   "cell_type": "code",
   "execution_count": 6,
   "metadata": {},
   "outputs": [],
   "source": [
    "from sklearn.metrics import mean_squared_error,r2_score,mean_absolute_error"
   ]
  },
  {
   "cell_type": "code",
   "execution_count": 7,
   "metadata": {},
   "outputs": [],
   "source": [
    "import matplotlib.pyplot as plt\n",
    "import seaborn as sb\n",
    "from sklearn import preprocessing"
   ]
  },
  {
   "cell_type": "code",
   "execution_count": 8,
   "metadata": {},
   "outputs": [],
   "source": [
    "data=pd.read_csv('sub-division_rainfall_act_dep_1901-2015.csv')"
   ]
  },
  {
   "cell_type": "code",
   "execution_count": 9,
   "metadata": {},
   "outputs": [
    {
     "name": "stdout",
     "output_type": "stream",
     "text": [
      "Data heads:\n",
      "                 SUBDIVISION       YEAR                 Parameter    JAN  \\\n",
      "0  ANDAMAN & NICOBAR ISLANDS  1901-2015                      Mean   49.2   \n",
      "1  ANDAMAN & NICOBAR ISLANDS  1901-2015        Standard deviation   71.3   \n",
      "2  ANDAMAN & NICOBAR ISLANDS  1901-2015  Coefficient of variation  144.9   \n",
      "3  ANDAMAN & NICOBAR ISLANDS       1901                    Actual   49.2   \n",
      "4  ANDAMAN & NICOBAR ISLANDS       1901      Percentage departure   -0.1   \n",
      "\n",
      "     FEB    MAR   APR    MAY    JUN    JUL    AUG    SEP    OCT    NOV    DEC  \\\n",
      "0   27.6   30.0  72.2  355.6  471.4  397.5  400.5  431.3  289.5  233.0  153.3   \n",
      "1   38.8   43.6  66.8  151.2  147.0  151.9  142.6  146.7   99.4  119.4  129.5   \n",
      "2  140.4  145.5  92.5   42.5   31.2   38.2   35.6   34.0   34.3   51.2   84.5   \n",
      "3   87.1   29.2   2.3  528.8  517.5  365.1  481.1  332.6  388.5  558.2   33.6   \n",
      "4  215.9   -2.6 -96.8   48.7    9.8   -8.2   20.1  -22.9   34.2  139.5  -78.1   \n",
      "\n",
      "   ANNUAL     JF    MAM    JJAS    OND  \n",
      "0  2911.0   76.8  457.8  1700.7  675.8  \n",
      "1   395.9   81.1  176.8   286.3  199.0  \n",
      "2    13.6  105.6   38.6    16.8   29.4  \n",
      "3  3373.2  136.3  560.3  1696.3  980.3  \n",
      "4    15.9   77.5   22.4    -0.3   45.1  \n",
      "Null values in the dataset before preprocessing:\n",
      "SUBDIVISION       0\n",
      "YEAR              0\n",
      "Parameter         0\n",
      "JAN              28\n",
      "FEB              21\n",
      "MAR              23\n",
      "APR              15\n",
      "MAY              16\n",
      "JUN              10\n",
      "JUL              14\n",
      "AUG               8\n",
      "SEP              13\n",
      "OCT              27\n",
      "NOV              63\n",
      "DEC              59\n",
      "ANNUAL         4168\n",
      "JF             4132\n",
      "MAM            4137\n",
      "JJAS           4136\n",
      "OND            4145\n",
      "dtype: int64\n",
      "Filling null values with mean of that particular column\n",
      "Mean of data:\n"
     ]
    },
    {
     "name": "stderr",
     "output_type": "stream",
     "text": [
      "c:\\Users\\himan\\AppData\\Local\\Programs\\Python\\Python310\\lib\\site-packages\\numpy\\core\\fromnumeric.py:3430: FutureWarning: In a future version, DataFrame.mean(axis=None) will return a scalar mean over the entire DataFrame. To retain the old behavior, use 'frame.mean(axis=0)' or just 'frame.mean()'\n",
      "  return mean(axis=axis, dtype=dtype, out=out, **kwargs)\n",
      "c:\\Users\\himan\\AppData\\Local\\Programs\\Python\\Python310\\lib\\site-packages\\numpy\\core\\fromnumeric.py:3430: FutureWarning: Dropping of nuisance columns in DataFrame reductions (with 'numeric_only=None') is deprecated; in a future version this will raise TypeError.  Select only valid columns before calling the reduction.\n",
      "  return mean(axis=axis, dtype=dtype, out=out, **kwargs)\n"
     ]
    },
    {
     "name": "stdout",
     "output_type": "stream",
     "text": [
      "JAN        11.925185\n",
      "FEB        13.387873\n",
      "MAR        15.677721\n",
      "APR        20.548187\n",
      "MAY        33.842725\n",
      "JUN        82.217700\n",
      "JUL       121.070849\n",
      "AUG       102.237275\n",
      "SEP        71.355525\n",
      "OCT        37.236141\n",
      "NOV        18.596474\n",
      "DEC        11.629088\n",
      "ANNUAL    703.619800\n",
      "JF         20.935956\n",
      "MAM        78.359082\n",
      "JJAS      531.036671\n",
      "OND        76.840296\n",
      "dtype: float64\n",
      "Null values in the dataset after preprocessing:\n",
      "SUBDIVISION    0\n",
      "YEAR           0\n",
      "Parameter      0\n",
      "JAN            0\n",
      "FEB            0\n",
      "MAR            0\n",
      "APR            0\n",
      "MAY            0\n",
      "JUN            0\n",
      "JUL            0\n",
      "AUG            0\n",
      "SEP            0\n",
      "OCT            0\n",
      "NOV            0\n",
      "DEC            0\n",
      "ANNUAL         0\n",
      "JF             0\n",
      "MAM            0\n",
      "JJAS           0\n",
      "OND            0\n",
      "dtype: int64\n",
      "\n",
      "\n",
      "Shape:  (12456, 20)\n"
     ]
    }
   ],
   "source": [
    "print(\"Data heads:\")\n",
    "print(data.head())\n",
    "print(\"Null values in the dataset before preprocessing:\")\n",
    "print(data.isnull().sum())\n",
    "print(\"Filling null values with mean of that particular column\")\n",
    "data=data.fillna(np.mean(data))\n",
    "print(\"Mean of data:\")\n",
    "print(np.mean(data))\n",
    "print(\"Null values in the dataset after preprocessing:\")\n",
    "print(data.isnull().sum())\n",
    "print(\"\\n\\nShape: \",data.shape)"
   ]
  },
  {
   "cell_type": "code",
   "execution_count": 10,
   "metadata": {},
   "outputs": [
    {
     "name": "stdout",
     "output_type": "stream",
     "text": [
      "Info:\n",
      "<class 'pandas.core.frame.DataFrame'>\n",
      "RangeIndex: 12456 entries, 0 to 12455\n",
      "Data columns (total 20 columns):\n",
      " #   Column       Non-Null Count  Dtype  \n",
      "---  ------       --------------  -----  \n",
      " 0   SUBDIVISION  12456 non-null  object \n",
      " 1   YEAR         12456 non-null  object \n",
      " 2   Parameter    12456 non-null  object \n",
      " 3   JAN          12456 non-null  float64\n",
      " 4   FEB          12456 non-null  float64\n",
      " 5   MAR          12456 non-null  float64\n",
      " 6   APR          12456 non-null  float64\n",
      " 7   MAY          12456 non-null  float64\n",
      " 8   JUN          12456 non-null  float64\n",
      " 9   JUL          12456 non-null  float64\n",
      " 10  AUG          12456 non-null  float64\n",
      " 11  SEP          12456 non-null  float64\n",
      " 12  OCT          12456 non-null  float64\n",
      " 13  NOV          12456 non-null  float64\n",
      " 14  DEC          12456 non-null  float64\n",
      " 15  ANNUAL       12456 non-null  float64\n",
      " 16  JF           12456 non-null  float64\n",
      " 17  MAM          12456 non-null  float64\n",
      " 18  JJAS         12456 non-null  float64\n",
      " 19  OND          12456 non-null  float64\n",
      "dtypes: float64(17), object(3)\n",
      "memory usage: 1.9+ MB\n",
      "None\n"
     ]
    }
   ],
   "source": [
    "print(\"Info:\")\n",
    "print(data.info())"
   ]
  },
  {
   "cell_type": "code",
   "execution_count": 11,
   "metadata": {},
   "outputs": [
    {
     "name": "stdout",
     "output_type": "stream",
     "text": [
      "Group by:\n"
     ]
    },
    {
     "data": {
      "text/plain": [
       "SUBDIVISION\n",
       "ANDAMAN & NICOBAR ISLANDS             333\n",
       "ARUNACHAL PRADESH                     294\n",
       "ASSAM & MEGHALAYA                     348\n",
       "BIHAR                                 348\n",
       "CHHATTISGARH                          348\n",
       "COASTAL ANDHRA PRADESH                348\n",
       "COASTAL KARNATAKA                     348\n",
       "EAST MADHYA PRADESH                   348\n",
       "EAST RAJASTHAN                        348\n",
       "EAST UTTAR PRADESH                    348\n",
       "GANGETIC WEST BENGAL                  348\n",
       "GUJARAT REGION                        348\n",
       "HARYANA DELHI & CHANDIGARH            348\n",
       "HIMACHAL PRADESH                      348\n",
       "JAMMU & KASHMIR                       348\n",
       "JHARKHAND                             348\n",
       "KERALA                                348\n",
       "KONKAN & GOA                          348\n",
       "LAKSHADWEEP                           345\n",
       "MADHYA MAHARASHTRA                    348\n",
       "MATATHWADA                            348\n",
       "NAGA MANI MIZO TRIPURA                348\n",
       "NORTH INTERIOR KARNATAKA              348\n",
       "ORISSA                                348\n",
       "PUNJAB                                348\n",
       "RAYALSEEMA                            348\n",
       "SAURASHTRA & KUTCH                    348\n",
       "SOUTH INTERIOR KARNATAKA              348\n",
       "SUB HIMALAYAN WEST BENGAL & SIKKIM    348\n",
       "TAMIL NADU                            348\n",
       "TELANGANA                             348\n",
       "UTTARAKHAND                           348\n",
       "VIDARBHA                              348\n",
       "WEST MADHYA PRADESH                   348\n",
       "WEST RAJASTHAN                        348\n",
       "WEST UTTAR PRADESH                    348\n",
       "dtype: int64"
      ]
     },
     "execution_count": 11,
     "metadata": {},
     "output_type": "execute_result"
    }
   ],
   "source": [
    "print(\"Group by:\")\n",
    "data.groupby('SUBDIVISION').size()"
   ]
  },
  {
   "cell_type": "code",
   "execution_count": 12,
   "metadata": {},
   "outputs": [
    {
     "name": "stdout",
     "output_type": "stream",
     "text": [
      "Co-Variance =                 JAN          FEB           MAR           APR           MAY  \\\n",
      "JAN     8011.565394   252.797989    492.682491    413.073262    485.076820   \n",
      "FEB      252.797989  9727.811468   1635.033482    607.699419    761.106427   \n",
      "MAR      492.682491  1635.033482  11890.392323   1229.579927    942.748632   \n",
      "APR      413.073262   607.699419   1229.579927   9714.839056   2878.444481   \n",
      "MAY      485.076820   761.106427    942.748632   2878.444481  10447.462285   \n",
      "JUN      402.799365   835.856987   1435.094772   4174.491573   9560.595356   \n",
      "JUL      678.676044  1039.244504   1756.504540   4297.823146   9568.013779   \n",
      "AUG      764.796401  1011.637181   1485.117693   3379.224404   7538.195042   \n",
      "SEP      504.358044   765.791719   1140.864628   2768.122641   6086.316994   \n",
      "OCT      275.362691   402.883567    302.064541   1721.602283   4482.027654   \n",
      "NOV      360.819313     3.325311     75.013226    308.519739   1722.352374   \n",
      "DEC       31.505487    56.367957   1489.541745    609.814450    554.307155   \n",
      "ANNUAL  5196.704395  6517.202935   9947.250032  21068.592177  45601.772280   \n",
      "JF      4691.527866  4713.116812   1309.316367    826.822819   1178.044545   \n",
      "MAM     1105.608454  1693.450626   4323.337540   6666.413596  12165.798038   \n",
      "JJAS    2897.437810  3769.317368   5822.178163  13415.531263  29517.790313   \n",
      "OND      597.198835   591.098324    708.312129   2295.432139   6233.736915   \n",
      "\n",
      "                  JUN            JUL            AUG           SEP  \\\n",
      "JAN        402.799365     678.676044     764.796401    504.358044   \n",
      "FEB        835.856987    1039.244504    1011.637181    765.791719   \n",
      "MAR       1435.094772    1756.504540    1485.117693   1140.864628   \n",
      "APR       4174.491573    4297.823146    3379.224404   2768.122641   \n",
      "MAY       9560.595356    9568.013779    7538.195042   6086.316994   \n",
      "JUN      30161.522093   32384.544419   23718.942038  15220.021100   \n",
      "JUL      32384.544419   50203.493862   32993.209551  20622.572436   \n",
      "AUG      23718.942038   32993.209551   30143.245142  16222.349467   \n",
      "SEP      15220.021100   20622.572436   16222.349467  15129.105993   \n",
      "OCT       8279.727898    9380.328499    7243.483193   5741.999182   \n",
      "NOV       2876.930374    2692.575274    2195.574272   1832.489596   \n",
      "DEC        935.877678     985.900134     775.041566    732.590190   \n",
      "ANNUAL  115910.549221  146741.288510  110549.209470  75044.506120   \n",
      "JF        1486.541331    2151.233956    2100.090265   1443.727987   \n",
      "MAM      14406.563620   14550.236332   11515.526733   9329.767201   \n",
      "JJAS     90056.481509  119293.229506   88876.914677  57418.243926   \n",
      "OND      11249.831049   11804.653794    9169.885036   7601.643810   \n",
      "\n",
      "                 OCT           NOV           DEC         ANNUAL            JF  \\\n",
      "JAN       275.362691    360.819313     31.505487    5196.704395   4691.527866   \n",
      "FEB       402.883567      3.325311     56.367957    6517.202935   4713.116812   \n",
      "MAR       302.064541     75.013226   1489.541745    9947.250032   1309.316367   \n",
      "APR      1721.602283    308.519739    609.814450   21068.592177    826.822819   \n",
      "MAY      4482.027654   1722.352374    554.307155   45601.772280   1178.044545   \n",
      "JUN      8279.727898   2876.930374    935.877678  115910.549221   1486.541331   \n",
      "JUL      9380.328499   2692.575274    985.900134  146741.288510   2151.233956   \n",
      "AUG      7243.483193   2195.574272    775.041566  110549.209470   2100.090265   \n",
      "SEP      5741.999182   1832.489596    732.590190   75044.506120   1443.727987   \n",
      "OCT      9398.250030   1650.757764    428.559005   39828.357772    620.595809   \n",
      "NOV      1650.757764   9657.666704    775.208059   15553.895376    288.234739   \n",
      "DEC       428.559005    775.208059  11016.642556    6956.935254    144.947389   \n",
      "ANNUAL  39828.357772  15553.895376   6956.935254  601090.549118  12295.337552   \n",
      "JF        620.595809    288.234739    144.947389   12295.337552   5560.290994   \n",
      "MAM      5976.525917   2276.965296   1370.794926   77902.737456   2685.775888   \n",
      "JJAS    26656.921929   8989.486075   3712.052373  448247.002007   7222.455309   \n",
      "OND      9743.155423   5519.159360   2695.334223   62539.873053   1197.239404   \n",
      "\n",
      "                 MAM           JJAS           OND  \n",
      "JAN      1105.608454    2897.437810    597.198835  \n",
      "FEB      1693.450626    3769.317368    591.098324  \n",
      "MAR      4323.337540    5822.178163    708.312129  \n",
      "APR      6666.413596   13415.531263   2295.432139  \n",
      "MAY     12165.798038   29517.790313   6233.736915  \n",
      "JUN     14406.563620   90056.481509  11249.831049  \n",
      "JUL     14550.236332  119293.229506  11804.653794  \n",
      "AUG     11515.526733   88876.914677   9169.885036  \n",
      "SEP      9329.767201   57418.243926   7601.643810  \n",
      "OCT      5976.525917   26656.921929   9743.155423  \n",
      "NOV      2276.965296    8989.486075   5519.159360  \n",
      "DEC      1370.794926    3712.052373   2695.334223  \n",
      "ANNUAL  77902.737456  448247.002007  62539.873053  \n",
      "JF       2685.775888    7222.455309   1197.239404  \n",
      "MAM     19727.455500   49572.966620   9224.793491  \n",
      "JJAS    49572.966620  355425.590836  39504.641680  \n",
      "OND      9224.793491   39504.641680  15283.994882  \n",
      "Co-Relation =              JAN       FEB       MAR       APR       MAY       JUN       JUL  \\\n",
      "JAN     1.000000  0.028636  0.050479  0.046822  0.053021  0.025912  0.033841   \n",
      "FEB     0.028636  1.000000  0.152027  0.062512  0.075497  0.048798  0.047027   \n",
      "MAR     0.050479  0.152027  1.000000  0.114404  0.084585  0.075780  0.071893   \n",
      "APR     0.046822  0.062512  0.114404  1.000000  0.285716  0.243870  0.194609   \n",
      "MAY     0.053021  0.075497  0.084585  0.285716  1.000000  0.538583  0.417782   \n",
      "JUN     0.025912  0.048798  0.075780  0.243870  0.538583  1.000000  0.832232   \n",
      "JUL     0.033841  0.047027  0.071893  0.194609  0.417782  0.832232  1.000000   \n",
      "AUG     0.049214  0.059078  0.078445  0.197471  0.424783  0.786636  0.848130   \n",
      "SEP     0.045811  0.063124  0.085061  0.228329  0.484108  0.712495  0.748289   \n",
      "OCT     0.031734  0.042136  0.028574  0.180174  0.452320  0.491774  0.431845   \n",
      "NOV     0.041020  0.000343  0.007000  0.031851  0.171467  0.168565  0.122283   \n",
      "DEC     0.003354  0.005445  0.130146  0.058946  0.051668  0.051341  0.041922   \n",
      "ANNUAL  0.074886  0.085228  0.117662  0.275707  0.575448  0.860848  0.844725   \n",
      "JF      0.702922  0.640843  0.161027  0.112498  0.154564  0.114789  0.128757   \n",
      "MAM     0.087944  0.122245  0.282284  0.481547  0.847422  0.590607  0.462346   \n",
      "JJAS    0.054298  0.064103  0.089560  0.228305  0.484400  0.869789  0.893047   \n",
      "OND     0.053969  0.048477  0.052542  0.188377  0.493315  0.523963  0.426155   \n",
      "\n",
      "             AUG       SEP       OCT       NOV       DEC    ANNUAL        JF  \\\n",
      "JAN     0.049214  0.045811  0.031734  0.041020  0.003354  0.074886  0.702922   \n",
      "FEB     0.059078  0.063124  0.042136  0.000343  0.005445  0.085228  0.640843   \n",
      "MAR     0.078445  0.085061  0.028574  0.007000  0.130146  0.117662  0.161027   \n",
      "APR     0.197471  0.228329  0.180174  0.031851  0.058946  0.275707  0.112498   \n",
      "MAY     0.424783  0.484108  0.452320  0.171467  0.051668  0.575448  0.154564   \n",
      "JUN     0.786636  0.712495  0.491774  0.168565  0.051341  0.860848  0.114789   \n",
      "JUL     0.848130  0.748289  0.431845  0.122283  0.041922  0.844725  0.128757   \n",
      "AUG     1.000000  0.759648  0.430357  0.128682  0.042531  0.821279  0.162216   \n",
      "SEP     0.759648  1.000000  0.481541  0.151600  0.056745  0.786941  0.157409   \n",
      "OCT     0.430357  0.481541  1.000000  0.173270  0.042117  0.529906  0.085849   \n",
      "NOV     0.128682  0.151600  0.173270  1.000000  0.075155  0.204142  0.039333   \n",
      "DEC     0.042531  0.056745  0.042117  0.075155  1.000000  0.085492  0.018520   \n",
      "ANNUAL  0.821279  0.786941  0.529906  0.204142  0.085492  1.000000  0.212678   \n",
      "JF      0.162216  0.157409  0.085849  0.039333  0.018520  0.212678  1.000000   \n",
      "MAM     0.472230  0.540043  0.438924  0.164962  0.092985  0.715397  0.256440   \n",
      "JJAS    0.858657  0.783013  0.461224  0.153435  0.059322  0.969780  0.162466   \n",
      "OND     0.427219  0.499899  0.812938  0.454275  0.207716  0.652482  0.129871   \n",
      "\n",
      "             MAM      JJAS       OND  \n",
      "JAN     0.087944  0.054298  0.053969  \n",
      "FEB     0.122245  0.064103  0.048477  \n",
      "MAR     0.282284  0.089560  0.052542  \n",
      "APR     0.481547  0.228305  0.188377  \n",
      "MAY     0.847422  0.484400  0.493315  \n",
      "JUN     0.590607  0.869789  0.523963  \n",
      "JUL     0.462346  0.893047  0.426155  \n",
      "AUG     0.472230  0.858657  0.427219  \n",
      "SEP     0.540043  0.783013  0.499899  \n",
      "OCT     0.438924  0.461224  0.812938  \n",
      "NOV     0.164962  0.153435  0.454275  \n",
      "DEC     0.092985  0.059322  0.207716  \n",
      "ANNUAL  0.715397  0.969780  0.652482  \n",
      "JF      0.256440  0.162466  0.129871  \n",
      "MAM     1.000000  0.592018  0.531255  \n",
      "JJAS    0.592018  1.000000  0.535988  \n",
      "OND     0.531255  0.535988  1.000000  \n"
     ]
    }
   ],
   "source": [
    "print(\"Co-Variance =\",data.cov())\n",
    "print(\"Co-Relation =\",data.corr())"
   ]
  },
  {
   "cell_type": "code",
   "execution_count": 13,
   "metadata": {},
   "outputs": [
    {
     "name": "stdout",
     "output_type": "stream",
     "text": [
      "Index of correlation columns: Index(['ANNUAL', 'JJAS', 'JUN', 'JUL', 'AUG', 'SEP', 'MAM', 'OND', 'MAY',\n",
      "       'OCT', 'APR', 'JF', 'NOV', 'MAR', 'DEC', 'FEB', 'JAN'],\n",
      "      dtype='object')\n"
     ]
    }
   ],
   "source": [
    "corr_cols=data.corr()['ANNUAL'].sort_values()[::-1]\n",
    "print(\"Index of correlation columns:\",corr_cols.index)"
   ]
  },
  {
   "cell_type": "code",
   "execution_count": 14,
   "metadata": {},
   "outputs": [
    {
     "name": "stdout",
     "output_type": "stream",
     "text": [
      "Scatter plot of annual and january attributes\n"
     ]
    },
    {
     "data": {
      "text/plain": [
       "<matplotlib.collections.PathCollection at 0x1f180359300>"
      ]
     },
     "execution_count": 14,
     "metadata": {},
     "output_type": "execute_result"
    },
    {
     "data": {
      "image/png": "[encoded data removed]",
      "text/plain": [
       "<Figure size 640x480 with 1 Axes>"
      ]
     },
     "metadata": {},
     "output_type": "display_data"
    }
   ],
   "source": [
    "print(\"Scatter plot of annual and january attributes\")\n",
    "plt.scatter(data.ANNUAL,data.JAN)"
   ]
  },
  {
   "cell_type": "code",
   "execution_count": 15,
   "metadata": {},
   "outputs": [
    {
     "name": "stdout",
     "output_type": "stream",
     "text": [
      "Box Plot of annual rainfall data in years 1901-2015\n"
     ]
    },
    {
     "data": {
      "text/plain": [
       "<AxesSubplot: >"
      ]
     },
     "execution_count": 15,
     "metadata": {},
     "output_type": "execute_result"
    },
    {
     "data": {
      "image/png": "[encoded data removed]",
      "text/plain": [
       "<Figure size 640x480 with 1 Axes>"
      ]
     },
     "metadata": {},
     "output_type": "display_data"
    }
   ],
   "source": [
    "print(\"Box Plot of annual rainfall data in years 1901-2015\")\n",
    "data['ANNUAL'].plot(kind='box',sharex=False,sharey=False)"
   ]
  },
  {
   "cell_type": "code",
   "execution_count": 16,
   "metadata": {},
   "outputs": [
    {
     "name": "stdout",
     "output_type": "stream",
     "text": [
      "Histograms showing the data from attributes (JANUARY to DECEMBER) of the years 1901-2015:\n"
     ]
    },
    {
     "data": {
      "text/plain": [
       "<AxesSubplot: >"
      ]
     },
     "execution_count": 16,
     "metadata": {},
     "output_type": "execute_result"
    },
    {
     "data": {
      "image/png": "[encoded data removed]",
      "text/plain": [
       "<Figure size 640x480 with 1 Axes>"
      ]
     },
     "metadata": {},
     "output_type": "display_data"
    }
   ],
   "source": [
    "print(\"Histograms showing the data from attributes (JANUARY to DECEMBER) of the years 1901-2015:\")\n",
    "data['JAN'].hist(bins=20)\n",
    "data['FEB'].hist(bins=20)\n",
    "data['MAR'].hist(bins=20)\n",
    "data['APR'].hist(bins=20)\n",
    "data['MAY'].hist(bins=20)\n",
    "data['JUN'].hist(bins=20)\n",
    "data['JUL'].hist(bins=20)\n",
    "data['AUG'].hist(bins=20)\n",
    "data['SEP'].hist(bins=20)\n",
    "data['OCT'].hist(bins=20)\n",
    "data['NOV'].hist(bins=20)\n",
    "data['DEC'].hist(bins=20)"
   ]
  },
  {
   "cell_type": "code",
   "execution_count": 17,
   "metadata": {},
   "outputs": [
    {
     "name": "stdout",
     "output_type": "stream",
     "text": [
      "Histogram showing the annual rainfall of the all states:\n"
     ]
    },
    {
     "data": {
      "text/plain": [
       "<AxesSubplot: >"
      ]
     },
     "execution_count": 17,
     "metadata": {},
     "output_type": "execute_result"
    },
    {
     "data": {
      "image/png": "[encoded data removed]",
      "text/plain": [
       "<Figure size 640x480 with 1 Axes>"
      ]
     },
     "metadata": {},
     "output_type": "display_data"
    }
   ],
   "source": [
    "print(\"Histogram showing the annual rainfall of the all states:\")\n",
    "data['ANNUAL'].hist(bins=20)"
   ]
  },
  {
   "cell_type": "code",
   "execution_count": 18,
   "metadata": {},
   "outputs": [
    {
     "name": "stdout",
     "output_type": "stream",
     "text": [
      "Violin plot of the ANNUAL attribute :-\n"
     ]
    },
    {
     "data": {
      "text/plain": [
       "<AxesSubplot: >"
      ]
     },
     "execution_count": 18,
     "metadata": {},
     "output_type": "execute_result"
    },
    {
     "data": {
      "image/png": "[encoded data removed]",
      "text/plain": [
       "<Figure size 640x480 with 1 Axes>"
      ]
     },
     "metadata": {},
     "output_type": "display_data"
    }
   ],
   "source": [
    "print(\"Violin plot of the ANNUAL attribute :-\")\n",
    "sb.violinplot(data=data['ANNUAL'])"
   ]
  }
 ],
 "metadata": {
  "kernelspec": {
   "display_name": "Python 3.10.5 64-bit",
   "language": "python",
   "name": "python3"
  },
  "language_info": {
   "codemirror_mode": {
    "name": "ipython",
    "version": 3
   },
   "file_extension": ".py",
   "mimetype": "text/x-python",
   "name": "python",
   "nbconvert_exporter": "python",
   "pygments_lexer": "ipython3",
   "version": "3.10.5"
  },
  "orig_nbformat": 4,
  "vscode": {
   "interpreter": {
    "hash": "1c697d69f927956c0f87158e03f309f8069fc71ae87cd648e9b5b7140a5374b5"
   }
  }
 },
 "nbformat": 4,
 "nbformat_minor": 2
}
